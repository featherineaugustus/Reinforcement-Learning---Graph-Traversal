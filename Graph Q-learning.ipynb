{
 "cells": [
  {
   "cell_type": "markdown",
   "id": "2f4be224",
   "metadata": {},
   "source": [
    "# Graph Q-Learning\n",
    "\n",
    "This project is extended from:\n",
    "\n",
    "https://www.geeksforgeeks.org/ml-reinforcement-learning-algorithm-python-implementation-using-q-learning/\n",
    "\n",
    "Here, we illustrate graph Q-Learning via a graph network\n",
    "\n",
    "There are several issues with the original work, which we will address and fix in this project.\n",
    "\n",
    "Feel free to explore and edit the code accordingly."
   ]
  },
  {
   "cell_type": "markdown",
   "id": "4e401c40",
   "metadata": {},
   "source": [
    "# Step 1: Importing the required libraries"
   ]
  },
  {
   "cell_type": "code",
   "execution_count": 1,
   "id": "6b313753",
   "metadata": {},
   "outputs": [],
   "source": [
    "import numpy as np\n",
    "import matplotlib.pyplot as plt\n",
    "import networkx as nx\n",
    "import pandas as pd"
   ]
  },
  {
   "cell_type": "markdown",
   "id": "68464c30",
   "metadata": {},
   "source": [
    "# Step 2: Defining and visualising the graph\n",
    "\n",
    "We fixed the seed of the layout for better illustration. Else, it may be very difficult to compare the results later"
   ]
  },
  {
   "cell_type": "code",
   "execution_count": 2,
   "id": "fb8daa00",
   "metadata": {},
   "outputs": [
    {
     "data": {
      "image/png": "[encoded data removed]",
      "text/plain": [
       "<Figure size 432x288 with 1 Axes>"
      ]
     },
     "metadata": {},
     "output_type": "display_data"
    }
   ],
   "source": [
    "edges = [(0, 1), (1, 5), (5, 6), (5, 4), (1, 2), \n",
    "         (1, 3), (9, 10), (2, 4), (0, 6), (6, 7),\n",
    "         (8, 9), (7, 8), (1, 7), (3, 9)]\n",
    "  \n",
    "goal = 10\n",
    "G = nx.Graph()\n",
    "G.add_edges_from(edges)\n",
    "pos = nx.spring_layout(G, seed=1)\n",
    "nx.draw_networkx_nodes(G, pos)\n",
    "nx.draw_networkx_edges(G, pos)\n",
    "nx.draw_networkx_labels(G, pos)\n",
    "\n",
    "plt.title('Graph')\n",
    "plt.show()"
   ]
  },
  {
   "cell_type": "markdown",
   "id": "5890f43c",
   "metadata": {},
   "source": [
    "# Step 3: Defining the reward the system for the bot\n",
    "\n",
    "We noticed that the reward for path 9->10 is 100, while the reward for path 10->9 is 0.\n",
    "This is because there is no meaning travelling from 10->9, as we had already reached the end goal (10)."
   ]
  },
  {
   "cell_type": "code",
   "execution_count": 3,
   "id": "3a96b62f",
   "metadata": {},
   "outputs": [
    {
     "name": "stdout",
     "output_type": "stream",
     "text": [
      "(11, 11)\n",
      "    0   1   2   3   4   5   6   7   8   9    10\n",
      "0   -1   0  -1  -1  -1  -1   0  -1  -1  -1   -1\n",
      "1    0  -1   0   0  -1   0  -1   0  -1  -1   -1\n",
      "2   -1   0  -1  -1   0  -1  -1  -1  -1  -1   -1\n",
      "3   -1   0  -1  -1  -1  -1  -1  -1  -1   0   -1\n",
      "4   -1  -1   0  -1  -1   0  -1  -1  -1  -1   -1\n",
      "5   -1   0  -1  -1   0  -1   0  -1  -1  -1   -1\n",
      "6    0  -1  -1  -1  -1   0  -1   0  -1  -1   -1\n",
      "7   -1   0  -1  -1  -1  -1   0  -1   0  -1   -1\n",
      "8   -1  -1  -1  -1  -1  -1  -1   0  -1   0   -1\n",
      "9   -1  -1  -1   0  -1  -1  -1  -1   0  -1  100\n",
      "10  -1  -1  -1  -1  -1  -1  -1  -1  -1   0  100\n"
     ]
    }
   ],
   "source": [
    "MATRIX_SIZE = 11\n",
    "M = np.matrix(np.ones(shape =(MATRIX_SIZE, MATRIX_SIZE)))\n",
    "M *= -1\n",
    "\n",
    "for point in edges:\n",
    "    #print(point)\n",
    "    if point[1] == goal:\n",
    "        M[point] = 100\n",
    "    else:\n",
    "        M[point] = 0\n",
    "  \n",
    "    if point[0] == goal:\n",
    "        M[point[::-1]] = 100\n",
    "    else:\n",
    "        M[point[::-1]]= 0\n",
    "        # reverse of point\n",
    "        \n",
    "M[goal, goal]= 100\n",
    "\n",
    "print(M.shape)\n",
    "# add goal point round trip\n",
    "import pandas as pd\n",
    "\n",
    "print(pd.DataFrame(M.astype(int), columns=list(range(11))))"
   ]
  },
  {
   "cell_type": "markdown",
   "id": "bef52286",
   "metadata": {},
   "source": [
    "# Step 4: Defining some utility functions to be used in the training\n",
    "\n",
    "We shift amended the code such that the functions are independent of the position where variables declared.\n",
    "Originally, some variables must be declared before the functions, which is a poor software engineering practice.\n",
    "\n",
    "Here, we implemented 3 functions:\n",
    "- available_actions: At a given state (node), we check what are the available route\n",
    "- sample_next_action: We choose the available route at random\n",
    "- update: We update the Q matrix and the score\n",
    "- find_optimal_path: Find the best path from start to goal based on Q matrix"
   ]
  },
  {
   "cell_type": "code",
   "execution_count": 4,
   "id": "4b519650",
   "metadata": {},
   "outputs": [],
   "source": [
    "# Determines the available actions for a given state\n",
    "def available_actions(state):\n",
    "    current_state_row = M[state, ]\n",
    "    available_action = np.where(current_state_row >= 0)[1]\n",
    "    return available_action\n",
    "  \n",
    "# Chooses one of the available actions at random\n",
    "def sample_next_action(available_actions_range):\n",
    "    next_action = int(np.random.choice(available_action, 1))\n",
    "    return next_action\n",
    "  \n",
    "# Updates the Q-Matrix according to the path chosen\n",
    "def update(Q, current_state, action, gamma):\n",
    "    \n",
    "    # We find the route with the highest Q\n",
    "    max_index = np.where(Q[action, ] == np.max(Q[action, ]))[1]\n",
    "    \n",
    "    # If there is more than 1 route with the highest Q\n",
    "    # Choose a random route among them\n",
    "    if max_index.shape[0] > 1:\n",
    "        max_index = int(np.random.choice(max_index, size = 1))\n",
    "    else:\n",
    "        max_index = int(max_index)\n",
    "    \n",
    "    # Update the Q Matrix based\n",
    "    max_value = Q[action, max_index]\n",
    "    Q[current_state, action] = M[current_state, action] + gamma * max_value\n",
    "    \n",
    "    if (np.max(Q) > 0):\n",
    "        return (Q, np.sum(Q / np.max(Q)*100))\n",
    "    else:\n",
    "        return (Q, 0)\n",
    "    \n",
    "def find_optimal_path(Q, current_state, goal):\n",
    "    current_state = 0\n",
    "    steps = [current_state]\n",
    "\n",
    "    while current_state != goal:\n",
    "\n",
    "        next_step_index = np.where(Q[current_state, ] == np.max(Q[current_state, ]))[1]\n",
    "        if next_step_index.shape[0] > 1:\n",
    "            next_step_index = int(np.random.choice(next_step_index, size = 1))\n",
    "        else:\n",
    "            next_step_index = int(next_step_index)\n",
    "        steps.append(next_step_index)\n",
    "        current_state = next_step_index\n",
    "    \n",
    "    print(\"\\nMost efficient path:\", steps)"
   ]
  },
  {
   "cell_type": "markdown",
   "id": "cd815e2f",
   "metadata": {},
   "source": [
    "# Step 5: Training and evaluating the bot using the Q-Matrix"
   ]
  },
  {
   "cell_type": "code",
   "execution_count": 5,
   "id": "b46000a2",
   "metadata": {},
   "outputs": [
    {
     "name": "stdout",
     "output_type": "stream",
     "text": [
      "Trained Q matrix:\n",
      "    0   1   2   3   4   5   6   7   8   9    10\n",
      "0    0  42   0   0   0   0  32   0   0   0    0\n",
      "1   32   0  32  56   0  32   0  42   0   0    0\n",
      "2    0  42   0   0  24   0   0   0   0   0    0\n",
      "3    0  42   0   0   0   0   0   0   0  75    0\n",
      "4    0   0  32   0   0  32   0   0   0   0    0\n",
      "5    0  42   0   0  24   0  32   0   0   0    0\n",
      "6   32   0   0   0   0  32   0  42   0   0    0\n",
      "7    0  42   0   0   0   0  32   0  56   0    0\n",
      "8    0   0   0   0   0   0   0  42   0  75    0\n",
      "9    0   0   0  56   0   0   0   0  56   0  100\n",
      "10   0   0   0   0   0   0   0   0   0  75  100\n",
      "\n",
      "Most efficient path: [0, 1, 3, 9, 10]\n"
     ]
    },
    {
     "data": {
      "image/png": "[encoded data removed]",
      "text/plain": [
       "<Figure size 432x288 with 1 Axes>"
      ]
     },
     "metadata": {
      "needs_background": "light"
     },
     "output_type": "display_data"
    }
   ],
   "source": [
    "# Initalize\n",
    "Q = np.matrix(np.zeros([MATRIX_SIZE, MATRIX_SIZE]))\n",
    "\n",
    "# learning parameter\n",
    "gamma = 0.75\n",
    "initial_state = 1\n",
    "\n",
    "# Train\n",
    "scores = []\n",
    "for i in range(1000):\n",
    "    current_state = np.random.randint(0, int(Q.shape[0]))\n",
    "    available_action = available_actions(current_state)\n",
    "    action = sample_next_action(available_action)\n",
    "    (Q, score) = update(Q, current_state, action, gamma)\n",
    "    scores.append(score)\n",
    "    \n",
    "# View the trained Q matrix\n",
    "print('Trained Q matrix:')\n",
    "output = np.round(Q / np.max(Q)*100, 0)\n",
    "print(pd.DataFrame(output.astype(int), columns=list(range(11))))\n",
    "\n",
    "# Find optimal path\n",
    "find_optimal_path(Q, 0, 10)\n",
    "\n",
    "# Plot reward gained over iteration\n",
    "plt.plot(scores)\n",
    "plt.xlabel('No of iterations')\n",
    "plt.ylabel('Reward gained')\n",
    "plt.show()"
   ]
  },
  {
   "cell_type": "markdown",
   "id": "3a643230",
   "metadata": {},
   "source": [
    "# Step 6: Defining and visualizing the new graph with the environmental clues\n",
    "Same problem, but here we add more details for better understanding and visualization"
   ]
  },
  {
   "cell_type": "code",
   "execution_count": 6,
   "id": "cd545ddf",
   "metadata": {},
   "outputs": [
    {
     "data": {
      "image/png": "[encoded data removed]",
      "text/plain": [
       "<Figure size 432x432 with 1 Axes>"
      ]
     },
     "metadata": {},
     "output_type": "display_data"
    }
   ],
   "source": [
    "# Defining the locations of the police and the drug traces\n",
    "police = [2, 4, 5]\n",
    "drug_traces = [3, 8, 9]\n",
    "\n",
    "G = nx.Graph()\n",
    "G.add_edges_from(edges)\n",
    "mapping = {0:'0 - Detective', \n",
    "           1:'1', \n",
    "           2:'2 - Police', \n",
    "           3:'3 - Drug traces',\n",
    "           4:'4 - Police', \n",
    "           5:'5 - Police', \n",
    "           6:'6', \n",
    "           7:'7', \n",
    "           8:'8 - Drug traces',\n",
    "           9:'9 - Drug traces', \n",
    "           10:'10 - Drug location'}\n",
    "\n",
    "plt.figure(figsize=(6,6))\n",
    "H = nx.relabel_nodes(G, mapping)\n",
    "pos = nx.spring_layout(H, seed=1)\n",
    "nx.draw_networkx_nodes(H, pos) # node_size =[200, 200, 200, 200, 200, 200, 200, 200, 200, 200]\n",
    "nx.draw_networkx_edges(H, pos)\n",
    "nx.draw_networkx_labels(H, pos)\n",
    "plt.show() "
   ]
  },
  {
   "cell_type": "markdown",
   "id": "ddffcd47",
   "metadata": {},
   "source": [
    "# Step 7: Defining some utility functions for the training process\n",
    "Here, we make some changes by adding environmental data (police and drug trace)"
   ]
  },
  {
   "cell_type": "code",
   "execution_count": 7,
   "id": "05a70354",
   "metadata": {},
   "outputs": [],
   "source": [
    "# Exploring the environment\n",
    "def collect_environmental_data(action):\n",
    "    found = []\n",
    "    if action in police:\n",
    "        found.append('p')\n",
    "    if action in drug_traces:\n",
    "        found.append('d')\n",
    "    return (found)\n",
    "  \n",
    "def update(Q, env_police, env_drugs, current_state, action, gamma):\n",
    "    max_index = np.where(Q[action, ] == np.max(Q[action, ]))[1]\n",
    "    if max_index.shape[0] > 1:\n",
    "        max_index = int(np.random.choice(max_index, size = 1))\n",
    "    else:\n",
    "        max_index = int(max_index)\n",
    "    \n",
    "    max_value = Q[action, max_index]\n",
    "    Q[current_state, action] = M[current_state, action] + gamma * max_value\n",
    "    environment = collect_environmental_data(action)\n",
    "  \n",
    "    if 'p' in environment:\n",
    "        env_police[current_state, action] += 1\n",
    "    if 'd' in environment:\n",
    "        env_drugs[current_state, action] += 1\n",
    "\n",
    "    if (np.max(Q) > 0):\n",
    "        return (Q, env_police, env_drugs, np.sum(Q / np.max(Q)*100))\n",
    "    else:\n",
    "        return (Q, env_police, env_drugs, 0)"
   ]
  },
  {
   "cell_type": "markdown",
   "id": "e774d38b",
   "metadata": {},
   "source": [
    "# Step 8: Visualising the Environmental matrices"
   ]
  },
  {
   "cell_type": "code",
   "execution_count": 8,
   "id": "35976630",
   "metadata": {},
   "outputs": [
    {
     "name": "stdout",
     "output_type": "stream",
     "text": [
      "Trained Q matrix:\n",
      "    0   1   2   3   4   5   6   7   8   9    10\n",
      "0    0  42   0   0   0   0  31   0   0   0    0\n",
      "1   31   0  31  56   0  31   0  42   0   0    0\n",
      "2    0  42   0   0  23   0   0   0   0   0    0\n",
      "3    0  42   0   0   0   0   0   0   0  75    0\n",
      "4    0   0  31   0   0  31   0   0   0   0    0\n",
      "5    0  42   0   0  23   0  31   0   0   0    0\n",
      "6   31   0   0   0   0  31   0  42   0   0    0\n",
      "7    0  42   0   0   0   0  31   0  56   0    0\n",
      "8    0   0   0   0   0   0   0  42   0  75    0\n",
      "9    0   0   0  56   0   0   0   0  56   0  100\n",
      "10   0   0   0   0   0   0   0   0   0  75  100\n",
      "\n",
      "Police Found:\n",
      "    0   1   2   3   4   5   6   7   8   9   10\n",
      "0    0   0   0   0   0   0   0   0   0   0   0\n",
      "1    0   0  15   0   0  19   0   0   0   0   0\n",
      "2    0   0   0   0  43   0   0   0   0   0   0\n",
      "3    0   0   0   0   0   0   0   0   0   0   0\n",
      "4    0   0  57   0   0  34   0   0   0   0   0\n",
      "5    0   0   0   0  41   0   0   0   0   0   0\n",
      "6    0   0   0   0   0  30   0   0   0   0   0\n",
      "7    0   0   0   0   0   0   0   0   0   0   0\n",
      "8    0   0   0   0   0   0   0   0   0   0   0\n",
      "9    0   0   0   0   0   0   0   0   0   0   0\n",
      "10   0   0   0   0   0   0   0   0   0   0   0\n",
      "\n",
      "Drug traces Found:\n",
      "    0   1   2   3   4   5   6   7   8   9   10\n",
      "0    0   0   0   0   0   0   0   0   0   0   0\n",
      "1    0   0   0  18   0   0   0   0   0   0   0\n",
      "2    0   0   0   0   0   0   0   0   0   0   0\n",
      "3    0   0   0   0   0   0   0   0   0  39   0\n",
      "4    0   0   0   0   0   0   0   0   0   0   0\n",
      "5    0   0   0   0   0   0   0   0   0   0   0\n",
      "6    0   0   0   0   0   0   0   0   0   0   0\n",
      "7    0   0   0   0   0   0   0   0  35   0   0\n",
      "8    0   0   0   0   0   0   0   0   0  48   0\n",
      "9    0   0   0  46   0   0   0   0  39   0   0\n",
      "10   0   0   0   0   0   0   0   0   0  46   0\n",
      "\n",
      "Most efficient path: [0, 1, 3, 9, 10]\n"
     ]
    },
    {
     "data": {
      "image/png": "[encoded data removed]",
      "text/plain": [
       "<Figure size 432x288 with 1 Axes>"
      ]
     },
     "metadata": {
      "needs_background": "light"
     },
     "output_type": "display_data"
    }
   ],
   "source": [
    "# Initalize\n",
    "Q = np.matrix(np.zeros([MATRIX_SIZE, MATRIX_SIZE]))\n",
    "env_police = np.matrix(np.zeros([MATRIX_SIZE, MATRIX_SIZE]))\n",
    "env_drugs = np.matrix(np.zeros([MATRIX_SIZE, MATRIX_SIZE]))\n",
    "\n",
    "# learning parameter\n",
    "gamma = 0.75\n",
    "initial_state = 1\n",
    "\n",
    "# Train\n",
    "scores = []\n",
    "for i in range(1000):\n",
    "    current_state = np.random.randint(0, int(Q.shape[0]))\n",
    "    available_action = available_actions(current_state)\n",
    "    action = sample_next_action(available_action)\n",
    "    \n",
    "    (Q, \n",
    "     env_police, env_drugs, \n",
    "     score) = update(Q, \n",
    "                     env_police,  env_drugs, \n",
    "                     current_state, \n",
    "                     action, \n",
    "                     gamma\n",
    "                    )\n",
    "    scores.append(score)\n",
    "\n",
    "# View the trained Q matrix\n",
    "print(\"Trained Q matrix:\")\n",
    "output = np.round(Q / np.max(Q)*100, 1)\n",
    "print(pd.DataFrame(output.astype(int), columns=list(range(11))))\n",
    "\n",
    "# print environmental matrices\n",
    "print('\\nPolice Found:')\n",
    "print(pd.DataFrame(env_police.astype(int), columns=list(range(11))))\n",
    "print('\\nDrug traces Found:')\n",
    "print(pd.DataFrame(env_drugs.astype(int), columns=list(range(11))))\n",
    "\n",
    "# Find optimal path\n",
    "find_optimal_path(Q, 0, 10)\n",
    "\n",
    "# Plot reward gained over iteration\n",
    "plt.plot(scores)\n",
    "plt.xlabel('No of iterations')\n",
    "plt.ylabel('Reward gained')\n",
    "plt.show()"
   ]
  },
  {
   "cell_type": "code",
   "execution_count": null,
   "id": "54672229",
   "metadata": {},
   "outputs": [],
   "source": []
  },
  {
   "cell_type": "code",
   "execution_count": null,
   "id": "af83403e",
   "metadata": {},
   "outputs": [],
   "source": []
  },
  {
   "cell_type": "code",
   "execution_count": null,
   "id": "c6b470fd",
   "metadata": {},
   "outputs": [],
   "source": []
  }
 ],
 "metadata": {
  "kernelspec": {
   "display_name": "Python 3 (ipykernel)",
   "language": "python",
   "name": "python3"
  },
  "language_info": {
   "codemirror_mode": {
    "name": "ipython",
    "version": 3
   },
   "file_extension": ".py",
   "mimetype": "text/x-python",
   "name": "python",
   "nbconvert_exporter": "python",
   "pygments_lexer": "ipython3",
   "version": "3.9.12"
  }
 },
 "nbformat": 4,
 "nbformat_minor": 5
}
